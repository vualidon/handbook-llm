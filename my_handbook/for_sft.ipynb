{
 "cells": [
  {
   "cell_type": "code",
   "execution_count": null,
   "metadata": {},
   "outputs": [],
   "source": [
    "from trl import SFTTrainer, setup_chat_format\n",
    "import transformers\n",
    "from transformers import AutoModelForCausalLM, set_seed"
   ]
  },
  {
   "cell_type": "code",
   "execution_count": null,
   "metadata": {},
   "outputs": [],
   "source": [
    "### Dataset processing\n",
    "from datasets import DatasetDict, concatenate_datasets, load_dataset, load_from_disk"
   ]
  },
  {
   "cell_type": "code",
   "execution_count": null,
   "metadata": {},
   "outputs": [],
   "source": [
    "from huggingface_hub import login\n",
    "login(token=\"\")"
   ]
  },
  {
   "cell_type": "code",
   "execution_count": null,
   "metadata": {},
   "outputs": [],
   "source": [
    "COLUMNS_TO_KEEP = [\"messages\", \"chosen\", \"rejected\", \"prompt\", \"completion\", \"label\", \"question\", \"answer\"]"
   ]
  },
  {
   "cell_type": "code",
   "execution_count": null,
   "metadata": {},
   "outputs": [],
   "source": [
    "def mix_datasets(dataset_mixer, shuffle=True, seed=42, test_percentage=0.1):\n",
    "    '''\n",
    "    Example format for dataset_nmixer:\n",
    "    dataset_mixer = {\n",
    "            \"dataset1\": 1, # dataset_name: proportion\n",
    "            # \"dataset1\": 0.3,\n",
    "            # \"dataset1\": 0.2,\n",
    "                }\n",
    "    '''\n",
    "    raw_train_datasets = []\n",
    "    raw_test_datasets = []\n",
    "    new_dataset = DatasetDict()\n",
    "    for key, value in dataset_mixer.items():\n",
    "        dataset = load_dataset(key)\n",
    "        if \"train\" in dataset:\n",
    "            train_dataset = dataset[\"train\"]\n",
    "            train_dataset = train_dataset.remove_columns([col for col in train_dataset.column_names if col not in COLUMNS_TO_KEEP])\n",
    "            raw_train_datasets.append((train_dataset, value))\n",
    "\n",
    "        if \"test\" in dataset:\n",
    "            test_dataset = dataset[\"test\"]\n",
    "            test_dataset = test_dataset.remove_columns([col for col in test_dataset.column_names if col not in COLUMNS_TO_KEEP])\n",
    "            raw_test_datasets.append(test_dataset)\n",
    "    train_subsets = []\n",
    "    for (dataset, frac) in raw_train_datasets:\n",
    "        train_subset = dataset.select(range(int(len(dataset)*frac)))\n",
    "        train_subsets.append(train_subset)\n",
    "    if shuffle:\n",
    "        train_dataset = concatenate_datasets(train_subsets).shuffle(seed=seed)\n",
    "    else:\n",
    "        train_dataset = concatenate_datasets(train_subsets)\n",
    "    if len(raw_test_datasets) > 0:\n",
    "        test_dataset = concatenate_datasets(raw_test_datasets).shuffle(seed=seed)\n",
    "    else:\n",
    "        test_dataset = None\n",
    "    \n",
    "    new_dataset['train'] = train_dataset\n",
    "\n",
    "    if test_dataset is None:\n",
    "        new_dataset = new_dataset['train'].train_test_split(test_size=test_percentage)\n",
    "    else:\n",
    "        new_dataset['test'] = test_dataset\n",
    "    \n",
    "    return new_dataset\n"
   ]
  },
  {
   "cell_type": "code",
   "execution_count": null,
   "metadata": {},
   "outputs": [],
   "source": [
    "def apply_template(example, tokenizer, task=\"sft\"):\n",
    "    if task == \"sft\" or task == \"generation\":\n",
    "        if \"messages\" in example:\n",
    "            if example[\"messages\"][0][\"role\"] == \"system\":\n",
    "                messages = example[\"messages\"]\n",
    "            else:\n",
    "                messages = [{\"role\":\"system\", \"content\": \"\"}] + example[\"messages\"]\n",
    "        elif \"question\" in example and \"answer\" in example:\n",
    "            if \"system_prompt\" in example:\n",
    "                messages = [{\"role\":\"system\", \"content\": example['system_prompt']},{\"role\": \"user\", \"content\": example[\"question\"]}, {\"role\": \"assistant\", \"content\": example[\"answer\"]}]\n",
    "            else:\n",
    "                messages = [{\"role\":\"system\", \"content\": \"\"},{\"role\": \"user\", \"content\": example[\"question\"]}, {\"role\": \"assistant\", \"content\": example[\"answer\"]}]\n",
    "        example['text'] = tokenizer.apply_chat_template(messages, tokenizer=False, add_generation_prompt=True if task == \"generation\" else False)\n",
    "\n",
    "    elif task == \"rm\":\n",
    "            \n",
    "        \n",
    "\n",
    "\n",
    "        \n",
    "        \n"
   ]
  },
  {
   "cell_type": "code",
   "execution_count": null,
   "metadata": {},
   "outputs": [],
   "source": [
    "dataset_mixer = {\n",
    "            \"dataset1\": 1, # dataset_name: proportion\n",
    "            # \"dataset1\": 0.3,\n",
    "            # \"dataset1\": 0.2,\n",
    "                }\n",
    "\n"
   ]
  }
 ],
 "metadata": {
  "language_info": {
   "name": "python"
  }
 },
 "nbformat": 4,
 "nbformat_minor": 2
}
